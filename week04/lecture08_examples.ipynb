{
 "cells": [
  {
   "cell_type": "code",
   "execution_count": 1,
   "metadata": {},
   "outputs": [],
   "source": [
    "import bqplot\n",
    "import numpy as np\n",
    "import ipywidgets\n",
    "import traitlets"
   ]
  },
  {
   "cell_type": "code",
   "execution_count": 2,
   "metadata": {},
   "outputs": [],
   "source": [
    "x = np.arange(100)"
   ]
  },
  {
   "cell_type": "code",
   "execution_count": 3,
   "metadata": {},
   "outputs": [
    {
     "data": {
      "text/plain": [
       "array([ 0,  1,  2,  3,  4,  5,  6,  7,  8,  9, 10, 11, 12, 13, 14, 15, 16,\n",
       "       17, 18, 19, 20, 21, 22, 23, 24, 25, 26, 27, 28, 29, 30, 31, 32, 33,\n",
       "       34, 35, 36, 37, 38, 39, 40, 41, 42, 43, 44, 45, 46, 47, 48, 49, 50,\n",
       "       51, 52, 53, 54, 55, 56, 57, 58, 59, 60, 61, 62, 63, 64, 65, 66, 67,\n",
       "       68, 69, 70, 71, 72, 73, 74, 75, 76, 77, 78, 79, 80, 81, 82, 83, 84,\n",
       "       85, 86, 87, 88, 89, 90, 91, 92, 93, 94, 95, 96, 97, 98, 99])"
      ]
     },
     "execution_count": 3,
     "metadata": {},
     "output_type": "execute_result"
    }
   ],
   "source": [
    "x"
   ]
  },
  {
   "cell_type": "code",
   "execution_count": 4,
   "metadata": {},
   "outputs": [
    {
     "data": {
      "text/plain": [
       "(1, (100,), dtype('int64'))"
      ]
     },
     "execution_count": 4,
     "metadata": {},
     "output_type": "execute_result"
    }
   ],
   "source": [
    "x.ndim, x.shape, x.dtype"
   ]
  },
  {
   "cell_type": "code",
   "execution_count": 5,
   "metadata": {},
   "outputs": [],
   "source": [
    "y = np.random.random(100) + 5"
   ]
  },
  {
   "cell_type": "code",
   "execution_count": 6,
   "metadata": {},
   "outputs": [],
   "source": [
    "x_sc = bqplot.LinearScale()\n",
    "y_sc = bqplot.LinearScale()"
   ]
  },
  {
   "cell_type": "code",
   "execution_count": 7,
   "metadata": {},
   "outputs": [
    {
     "data": {
      "text/plain": [
       "{'_display_callbacks': <traitlets.traitlets.Instance at 0x7f2ec17f3160>,\n",
       " '_model_module': <traitlets.traitlets.Unicode at 0x7f2e6906af28>,\n",
       " '_model_module_version': <traitlets.traitlets.Unicode at 0x7f2ecc992080>,\n",
       " '_model_name': <traitlets.traitlets.Unicode at 0x7f2ecc992be0>,\n",
       " '_msg_callbacks': <traitlets.traitlets.Instance at 0x7f2ec17f3198>,\n",
       " '_property_lock': <traitlets.traitlets.Dict at 0x7f2ec17f30f0>,\n",
       " '_states_to_send': <traitlets.traitlets.Set at 0x7f2ec17f3128>,\n",
       " '_view_count': <traitlets.traitlets.Int at 0x7f2ec17e0f98>,\n",
       " '_view_module': <traitlets.traitlets.Unicode at 0x7f2e69059390>,\n",
       " '_view_module_version': <traitlets.traitlets.Unicode at 0x7f2e6906af60>,\n",
       " '_view_name': <traitlets.traitlets.Unicode at 0x7f2ecc992ba8>,\n",
       " 'allow_padding': <traitlets.traitlets.Bool at 0x7f2ec17217f0>,\n",
       " 'comm': <traitlets.traitlets.Instance at 0x7f2ec17e0fd0>,\n",
       " 'domain_class': <traitlets.traitlets.Type at 0x7f2ec1721780>,\n",
       " 'keys': <traitlets.traitlets.List at 0x7f2ec17f3048>,\n",
       " 'log': <traitlets.traitlets.Instance at 0x7f2ec17bfba8>,\n",
       " 'max': <traitlets.traitlets.Float at 0x7f2ecc992ac8>,\n",
       " 'mid_range': <traitlets.traitlets.Float at 0x7f2ecc992b70>,\n",
       " 'min': <traitlets.traitlets.Float at 0x7f2ecc992a58>,\n",
       " 'min_range': <traitlets.traitlets.Float at 0x7f2ecc992b38>,\n",
       " 'reverse': <traitlets.traitlets.Bool at 0x7f2ec17217b8>,\n",
       " 'stabilized': <traitlets.traitlets.Bool at 0x7f2ecc992b00>}"
      ]
     },
     "execution_count": 7,
     "metadata": {},
     "output_type": "execute_result"
    }
   ],
   "source": [
    "x_sc.traits()"
   ]
  },
  {
   "cell_type": "code",
   "execution_count": 8,
   "metadata": {},
   "outputs": [
    {
     "data": {
      "application/vnd.jupyter.widget-view+json": {
       "model_id": "69eef57c486b43979047233c2a307c30",
       "version_major": 2,
       "version_minor": 0
      },
      "text/plain": [
       "Figure(axes=[Axis(label='X Axis', scale=LinearScale()), Axis(label='Y Axis', orientation='vertical', scale=Lin…"
      ]
     },
     "metadata": {},
     "output_type": "display_data"
    }
   ],
   "source": [
    "lines = bqplot.Lines(x = x, y = y, scales = {'x': x_sc, 'y': y_sc})\n",
    "\n",
    "x_ax = bqplot.Axis(scale = x_sc, label = \"X Axis\")\n",
    "y_ax = bqplot.Axis(scale = y_sc, label = \"Y Axis\", orientation = \"vertical\")\n",
    "\n",
    "fig = bqplot.Figure(marks = [lines], axes = [x_ax, y_ax])\n",
    "\n",
    "display(fig)"
   ]
  },
  {
   "cell_type": "code",
   "execution_count": 9,
   "metadata": {},
   "outputs": [
    {
     "data": {
      "application/vnd.jupyter.widget-view+json": {
       "model_id": "99b364cda7344738b162abbf95420a87",
       "version_major": 2,
       "version_minor": 0
      },
      "text/plain": [
       "VBox(children=(Button(description='Regenerate!', style=ButtonStyle()), FloatSlider(value=0.0, max=10.0), Float…"
      ]
     },
     "metadata": {},
     "output_type": "display_data"
    }
   ],
   "source": [
    "y_lower_bound = ipywidgets.FloatSlider(min = 0, max = 10)\n",
    "y_upper_bound = ipywidgets.FloatSlider(min = 0, max = 10)\n",
    "traitlets.link((y_lower_bound, 'value'), (y_sc, 'min'))\n",
    "traitlets.link((y_upper_bound, 'value'), (y_sc, 'max'))\n",
    "\n",
    "regenerate_button = ipywidgets.Button(description=\"Regenerate!\")\n",
    "\n",
    "def regenerate_y(button):\n",
    "    mi_val = y_sc.min\n",
    "    ma_val = y_sc.max\n",
    "    lines.y = np.random.random(100) * (ma_val - mi_val) + mi_val\n",
    "\n",
    "regenerate_button.on_click(regenerate_y)\n",
    "\n",
    "display(ipywidgets.VBox([regenerate_button, y_upper_bound, y_lower_bound, fig]))"
   ]
  },
  {
   "cell_type": "code",
   "execution_count": 10,
   "metadata": {},
   "outputs": [
    {
     "data": {
      "application/vnd.jupyter.widget-view+json": {
       "model_id": "e38727a108724a1f83b11ab118c707ab",
       "version_major": 2,
       "version_minor": 0
      },
      "text/plain": [
       "VBox(children=(Text(value='label 1', disabled=True), Text(value='label 2', disabled=True)))"
      ]
     },
     "metadata": {},
     "output_type": "display_data"
    }
   ],
   "source": [
    "label1 = ipywidgets.Text(\"label 1\", disabled = True)\n",
    "label2 = ipywidgets.Text(\"label 2\", disabled = True)\n",
    "vbox = ipywidgets.VBox([label1, label2])\n",
    "display(vbox)"
   ]
  },
  {
   "cell_type": "code",
   "execution_count": 11,
   "metadata": {},
   "outputs": [
    {
     "data": {
      "application/vnd.jupyter.widget-view+json": {
       "model_id": "aedd27bb72b445768bd308fbda5084c6",
       "version_major": 2,
       "version_minor": 0
      },
      "text/plain": [
       "Figure(axes=[Axis(label='X Axis', scale=LinearScale()), Axis(label='Y Axis', orientation='vertical', scale=Lin…"
      ]
     },
     "metadata": {},
     "output_type": "display_data"
    }
   ],
   "source": [
    "x = np.arange(100)\n",
    "y0 = np.random.random(100) * 5.0\n",
    "y1 = np.random.random(100) + 2.0\n",
    "\n",
    "x_sc = bqplot.LinearScale()\n",
    "y_sc = bqplot.LinearScale()\n",
    "\n",
    "lines = bqplot.Lines(x = x, y = [y0, y1], scales = {'x': x_sc, 'y': y_sc})\n",
    "\n",
    "x_ax = bqplot.Axis(scale = x_sc, label = \"X Axis\")\n",
    "y_ax = bqplot.Axis(scale = y_sc, label = \"Y Axis\", orientation = \"vertical\")\n",
    "\n",
    "fig = bqplot.Figure(marks = [lines], axes = [x_ax, y_ax])\n",
    "\n",
    "display(fig)"
   ]
  },
  {
   "cell_type": "code",
   "execution_count": 12,
   "metadata": {},
   "outputs": [
    {
     "data": {
      "application/vnd.jupyter.widget-view+json": {
       "model_id": "b2a3e49f19244b938b69e95176a47ded",
       "version_major": 2,
       "version_minor": 0
      },
      "text/plain": [
       "Figure(axes=[Axis(label='X Axis', scale=LinearScale()), Axis(label='Y Axis', orientation='vertical', scale=Lin…"
      ]
     },
     "metadata": {},
     "output_type": "display_data"
    }
   ],
   "source": [
    "x = np.arange(100)\n",
    "y0 = np.random.random(100) * 5.0\n",
    "y1 = np.random.random(100) + 2.0\n",
    "\n",
    "x_sc = bqplot.LinearScale()\n",
    "y_sc = bqplot.LinearScale()\n",
    "\n",
    "lines = bqplot.Lines(x = x, y = [y0, y1], scales = {'x': x_sc, 'y': y_sc})\n",
    "points = bqplot.Scatter(x = x, y = y0, scales = {'x': x_sc, 'y': y_sc})\n",
    "\n",
    "x_ax = bqplot.Axis(scale = x_sc, label = \"X Axis\")\n",
    "y_ax = bqplot.Axis(scale = y_sc, label = \"Y Axis\", orientation = \"vertical\")\n",
    "\n",
    "fig = bqplot.Figure(marks = [lines, points], axes = [x_ax, y_ax])\n",
    "\n",
    "display(fig)"
   ]
  },
  {
   "cell_type": "code",
   "execution_count": 13,
   "metadata": {},
   "outputs": [
    {
     "data": {
      "application/vnd.jupyter.widget-view+json": {
       "model_id": "819bc3a445b645769468a8d641e624ca",
       "version_major": 2,
       "version_minor": 0
      },
      "text/plain": [
       "Figure(axes=[Axis(label='X Axis', scale=LinearScale()), Axis(label='Y Axis', orientation='vertical', scale=Lin…"
      ]
     },
     "metadata": {},
     "output_type": "display_data"
    }
   ],
   "source": [
    "x = np.arange(100)\n",
    "y0 = np.random.random(100) * 5.0\n",
    "y1 = np.random.random(100) + 2.0\n",
    "\n",
    "x_sc = bqplot.LinearScale()\n",
    "y_sc = bqplot.LinearScale()\n",
    "\n",
    "lines = bqplot.Lines(x = x, y = [y0, y1], scales = {'x': x_sc, 'y': y_sc})\n",
    "points = bqplot.Scatter(x = x, y = y0, scales = {'x': x_sc, 'y': y_sc})\n",
    "\n",
    "x_ax = bqplot.Axis(scale = x_sc, label = \"X Axis\")\n",
    "y_ax = bqplot.Axis(scale = y_sc, label = \"Y Axis\", orientation = \"vertical\")\n",
    "\n",
    "pan_zoom = bqplot.PanZoom(scales = {'x': [x_sc], 'y': [y_sc]})\n",
    "\n",
    "fig = bqplot.Figure(marks = [lines, points], axes = [x_ax, y_ax], interaction = pan_zoom)\n",
    "\n",
    "display(fig)"
   ]
  },
  {
   "cell_type": "code",
   "execution_count": null,
   "metadata": {},
   "outputs": [],
   "source": []
  }
 ],
 "metadata": {
  "kernelspec": {
   "display_name": "Environment (conda_conda)",
   "language": "python",
   "name": "conda_conda"
  },
  "language_info": {
   "codemirror_mode": {
    "name": "ipython",
    "version": 3
   },
   "file_extension": ".py",
   "mimetype": "text/x-python",
   "name": "python",
   "nbconvert_exporter": "python",
   "pygments_lexer": "ipython3",
   "version": "3.6.6"
  }
 },
 "nbformat": 4,
 "nbformat_minor": 2
}
