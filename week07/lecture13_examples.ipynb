{
 "cells": [
  {
   "cell_type": "code",
   "execution_count": null,
   "metadata": {},
   "outputs": [],
   "source": [
    "import pandas as pd\n",
    "import numpy as np"
   ]
  },
  {
   "cell_type": "code",
   "execution_count": null,
   "metadata": {},
   "outputs": [],
   "source": [
    "df = pd.read_csv(\"building_inventory.csv\", na_values = {\n",
    "    \"Year Acquired\": 0,\n",
    "    \"Year Constructed\": 0,\n",
    "    \"Square Footage\": 0\n",
    "})"
   ]
  },
  {
   "cell_type": "code",
   "execution_count": null,
   "metadata": {},
   "outputs": [],
   "source": [
    "df[\"Year Acquired\"] = pd.to_datetime(df[\"Year Acquired\"], format = \"%Y\")\n",
    "df[\"Year Constructed\"] = pd.to_datetime(df[\"Year Constructed\"], format = \"%Y\")"
   ]
  },
  {
   "cell_type": "code",
   "execution_count": null,
   "metadata": {},
   "outputs": [],
   "source": [
    "y_a = df[\"Year Acquired\"]"
   ]
  },
  {
   "cell_type": "code",
   "execution_count": null,
   "metadata": {},
   "outputs": [],
   "source": [
    "df.groupby(\"Year Acquired\")[\"Square Footage\"].sum().plot()"
   ]
  },
  {
   "cell_type": "code",
   "execution_count": null,
   "metadata": {},
   "outputs": [],
   "source": [
    "!rm -f us-counties.csv ; wget https://raw.githubusercontent.com/nytimes/covid-19-data/master/us-counties.csv"
   ]
  },
  {
   "cell_type": "code",
   "execution_count": null,
   "metadata": {},
   "outputs": [],
   "source": [
    "!rm -f us-states.csv ; wget https://raw.githubusercontent.com/nytimes/covid-19-data/master/us-states.csv"
   ]
  },
  {
   "cell_type": "code",
   "execution_count": null,
   "metadata": {},
   "outputs": [],
   "source": [
    "states = pd.read_csv(\"us-states.csv\", parse_dates = [\"date\"])"
   ]
  },
  {
   "cell_type": "code",
   "execution_count": null,
   "metadata": {},
   "outputs": [],
   "source": [
    "states.dtypes"
   ]
  },
  {
   "cell_type": "code",
   "execution_count": null,
   "metadata": {},
   "outputs": [],
   "source": [
    "states[\"state\"] == \"Washington\""
   ]
  },
  {
   "cell_type": "code",
   "execution_count": null,
   "metadata": {},
   "outputs": [],
   "source": [
    "states[states[\"state\"] == \"Washington\"]"
   ]
  },
  {
   "cell_type": "code",
   "execution_count": null,
   "metadata": {},
   "outputs": [],
   "source": [
    "pd.to_datetime(states[\"date\"])"
   ]
  },
  {
   "cell_type": "code",
   "execution_count": null,
   "metadata": {},
   "outputs": [],
   "source": [
    "illinois_results = states[states[\"state\"] == \"Illinois\"]"
   ]
  },
  {
   "cell_type": "code",
   "execution_count": null,
   "metadata": {},
   "outputs": [],
   "source": [
    "import bqplot"
   ]
  },
  {
   "cell_type": "code",
   "execution_count": null,
   "metadata": {},
   "outputs": [],
   "source": [
    "x_sc = bqplot.DateScale()\n",
    "y_sc = bqplot.LinearScale()\n",
    "\n",
    "x_ax = bqplot.Axis(scale = x_sc, label = \"Date\")\n",
    "y_ax = bqplot.Axis(scale = y_sc, orientation = 'vertical', label = \"Cases (cumulative)\")\n",
    "\n",
    "lines = bqplot.Lines(x = illinois_results[\"date\"], y = illinois_results[\"cases\"],\n",
    "                     scales = {'x': x_sc, 'y': y_sc})\n",
    "\n",
    "fig = bqplot.Figure(marks = [lines], axes = [x_ax, y_ax])\n",
    "display(fig)"
   ]
  },
  {
   "cell_type": "code",
   "execution_count": null,
   "metadata": {},
   "outputs": [],
   "source": [
    "x_sc = bqplot.DateScale()\n",
    "y_sc = bqplot.LinearScale()\n",
    "\n",
    "x_ax = bqplot.Axis(scale = x_sc, label = \"Date\")\n",
    "y_ax = bqplot.Axis(scale = y_sc, orientation = 'vertical', label = \"Cases (cumulative)\")\n",
    "\n",
    "lines = bqplot.Lines(x = illinois_results[\"date\"], y = illinois_results[\"cases\"],\n",
    "                     scales = {'x': x_sc, 'y': y_sc})\n",
    "\n",
    "date_selection = bqplot.interacts.FastIntervalSelector(scale = x_sc)\n",
    "\n",
    "fig = bqplot.Figure(marks = [lines], axes = [x_ax, y_ax], interaction = date_selection)\n",
    "display(fig)"
   ]
  },
  {
   "cell_type": "code",
   "execution_count": null,
   "metadata": {},
   "outputs": [],
   "source": [
    "states"
   ]
  },
  {
   "cell_type": "code",
   "execution_count": null,
   "metadata": {},
   "outputs": [],
   "source": [
    "proj = bqplot.AlbersUSA()\n",
    "mark = bqplot.Map(map_data = bqplot.topo_load(\"map_data/USStatesMap.json\"),\n",
    "                  scales = {'projection': proj})\n",
    "fig = bqplot.Figure(marks = [mark])\n",
    "display(fig)"
   ]
  },
  {
   "cell_type": "code",
   "execution_count": null,
   "metadata": {},
   "outputs": [],
   "source": [
    "case_counts = states.groupby(\"fips\")[\"cases\"].max().to_dict()\n",
    "\n",
    "proj = bqplot.AlbersUSA()\n",
    "#color_sc = bqplot.ColorScale(colors = [\"white\", \"black\"])\n",
    "color_sc = bqplot.ColorScale(scheme = \"viridis\")\n",
    "color_ax = bqplot.ColorAxis(scale = color_sc, label = 'Case Count')\n",
    "\n",
    "mark = bqplot.Map(map_data = bqplot.topo_load(\"map_data/USStatesMap.json\"),\n",
    "                  scales = {'projection': proj, 'color': color_sc},\n",
    "                  color = case_counts)\n",
    "fig = bqplot.Figure(marks = [mark], axes = [color_ax])\n",
    "display(fig)"
   ]
  },
  {
   "cell_type": "code",
   "execution_count": null,
   "metadata": {},
   "outputs": [],
   "source": [
    "counties = pd.read_csv(\"us-counties.csv\", parse_dates = [\"date\"],\n",
    "                       dtype = {'fips': pd.Int32Dtype()})"
   ]
  },
  {
   "cell_type": "code",
   "execution_count": null,
   "metadata": {},
   "outputs": [],
   "source": [
    "illinois_by_county = counties[counties[\"state\"] == \"Illinois\"]"
   ]
  },
  {
   "cell_type": "code",
   "execution_count": null,
   "metadata": {},
   "outputs": [],
   "source": [
    "case_counts = illinois_by_county.groupby(\"fips\")[\"cases\"].max().to_dict()\n",
    "\n",
    "proj = bqplot.AlbersUSA()\n",
    "color_sc = bqplot.ColorScale(scheme = \"BuPu\")\n",
    "color_ax = bqplot.ColorAxis(scale = color_sc, label = 'Case Count')\n",
    "\n",
    "mark = bqplot.Map(map_data = bqplot.topo_load(\"map_data/USCountiesMap.json\"),\n",
    "                  scales = {'projection': proj, 'color': color_sc},\n",
    "                  color = case_counts)\n",
    "fig = bqplot.Figure(marks = [mark], axes = [color_ax])\n",
    "display(fig)"
   ]
  },
  {
   "cell_type": "code",
   "execution_count": null,
   "metadata": {},
   "outputs": [],
   "source": [
    "import ipywidgets\n",
    "v = ipywidgets.Label()\n",
    "display(v)"
   ]
  },
  {
   "cell_type": "code",
   "execution_count": null,
   "metadata": {},
   "outputs": [],
   "source": [
    "def hover_over_county(name, value):\n",
    "    v.value = \"%s\" % (value)"
   ]
  },
  {
   "cell_type": "code",
   "execution_count": null,
   "metadata": {},
   "outputs": [],
   "source": [
    "mark.on_hover(hover_over_county)"
   ]
  },
  {
   "cell_type": "code",
   "execution_count": null,
   "metadata": {},
   "outputs": [],
   "source": []
  }
 ],
 "metadata": {
  "kernelspec": {
   "display_name": "Python 3",
   "language": "python",
   "name": "python3"
  },
  "language_info": {
   "codemirror_mode": {
    "name": "ipython",
    "version": 3
   },
   "file_extension": ".py",
   "mimetype": "text/x-python",
   "name": "python",
   "nbconvert_exporter": "python",
   "pygments_lexer": "ipython3",
   "version": "3.8.5"
  }
 },
 "nbformat": 4,
 "nbformat_minor": 4
}
