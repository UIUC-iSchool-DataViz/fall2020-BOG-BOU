{
 "cells": [
  {
   "cell_type": "markdown",
   "metadata": {},
   "source": [
    "# Examples for Lecture 4\n",
    "\n",
    "We will be covering two principal areas:\n",
    "\n",
    " * A few types of aggregation -- counting, average, weighted average, sum\n",
    " * The \"building inventory\" dataset, and some simple pandas operations on it"
   ]
  },
  {
   "cell_type": "code",
   "execution_count": 1,
   "metadata": {},
   "outputs": [
    {
     "name": "stdout",
     "output_type": "stream",
     "text": [
      "--2020-09-03 15:49:58--  https://uiuc-ischool-dataviz.github.io/spring2019online/week02/building_inventory.csv\n",
      "Resolving uiuc-ischool-dataviz.github.io (uiuc-ischool-dataviz.github.io)... 185.199.111.153, 185.199.110.153, 185.199.108.153, ...\n",
      "Connecting to uiuc-ischool-dataviz.github.io (uiuc-ischool-dataviz.github.io)|185.199.111.153|:443... connected.\n",
      "HTTP request sent, awaiting response... 200 OK\n",
      "Length: 1994275 (1.9M) [text/csv]\n",
      "Saving to: ‘building_inventory.csv.2’\n",
      "\n",
      "building_inventory. 100%[===================>]   1.90M  --.-KB/s    in 0.04s   \n",
      "\n",
      "2020-09-03 15:49:58 (45.6 MB/s) - ‘building_inventory.csv.2’ saved [1994275/1994275]\n",
      "\n"
     ]
    }
   ],
   "source": [
    "!wget https://uiuc-ischool-dataviz.github.io/spring2019online/week02/building_inventory.csv"
   ]
  },
  {
   "cell_type": "code",
   "execution_count": 2,
   "metadata": {},
   "outputs": [],
   "source": [
    "%matplotlib inline"
   ]
  },
  {
   "cell_type": "code",
   "execution_count": 3,
   "metadata": {},
   "outputs": [],
   "source": [
    "import pandas as pd\n",
    "import numpy as np\n",
    "import matplotlib.pyplot as plt"
   ]
  },
  {
   "cell_type": "code",
   "execution_count": 4,
   "metadata": {},
   "outputs": [],
   "source": [
    "df = pd.read_csv(\"building_inventory.csv\")"
   ]
  },
  {
   "cell_type": "code",
   "execution_count": 5,
   "metadata": {},
   "outputs": [
    {
     "data": {
      "text/plain": [
       "Index(['Agency Name', 'Location Name', 'Address', 'City', 'Zip code', 'County',\n",
       "       'Congress Dist', 'Congressional Full Name', 'Rep Dist', 'Rep Full Name',\n",
       "       'Senate Dist', 'Senator Full Name', 'Bldg Status', 'Year Acquired',\n",
       "       'Year Constructed', 'Square Footage', 'Total Floors',\n",
       "       'Floors Above Grade', 'Floors Below Grade', 'Usage Description',\n",
       "       'Usage Description 2', 'Usage Description 3'],\n",
       "      dtype='object')"
      ]
     },
     "execution_count": 5,
     "metadata": {},
     "output_type": "execute_result"
    }
   ],
   "source": [
    "df.columns"
   ]
  },
  {
   "cell_type": "code",
   "execution_count": 6,
   "metadata": {},
   "outputs": [
    {
     "data": {
      "text/plain": [
       "Agency Name                object\n",
       "Location Name              object\n",
       "Address                    object\n",
       "City                       object\n",
       "Zip code                    int64\n",
       "County                     object\n",
       "Congress Dist               int64\n",
       "Congressional Full Name    object\n",
       "Rep Dist                    int64\n",
       "Rep Full Name              object\n",
       "Senate Dist                 int64\n",
       "Senator Full Name          object\n",
       "Bldg Status                object\n",
       "Year Acquired               int64\n",
       "Year Constructed            int64\n",
       "Square Footage              int64\n",
       "Total Floors                int64\n",
       "Floors Above Grade          int64\n",
       "Floors Below Grade          int64\n",
       "Usage Description          object\n",
       "Usage Description 2        object\n",
       "Usage Description 3        object\n",
       "dtype: object"
      ]
     },
     "execution_count": 6,
     "metadata": {},
     "output_type": "execute_result"
    }
   ],
   "source": [
    "df.dtypes"
   ]
  },
  {
   "cell_type": "code",
   "execution_count": 7,
   "metadata": {},
   "outputs": [
    {
     "data": {
      "text/html": [
       "<div>\n",
       "<style scoped>\n",
       "    .dataframe tbody tr th:only-of-type {\n",
       "        vertical-align: middle;\n",
       "    }\n",
       "\n",
       "    .dataframe tbody tr th {\n",
       "        vertical-align: top;\n",
       "    }\n",
       "\n",
       "    .dataframe thead th {\n",
       "        text-align: right;\n",
       "    }\n",
       "</style>\n",
       "<table border=\"1\" class=\"dataframe\">\n",
       "  <thead>\n",
       "    <tr style=\"text-align: right;\">\n",
       "      <th></th>\n",
       "      <th>Agency Name</th>\n",
       "      <th>Location Name</th>\n",
       "      <th>Address</th>\n",
       "      <th>City</th>\n",
       "      <th>Zip code</th>\n",
       "      <th>County</th>\n",
       "      <th>Congress Dist</th>\n",
       "      <th>Congressional Full Name</th>\n",
       "      <th>Rep Dist</th>\n",
       "      <th>Rep Full Name</th>\n",
       "      <th>...</th>\n",
       "      <th>Bldg Status</th>\n",
       "      <th>Year Acquired</th>\n",
       "      <th>Year Constructed</th>\n",
       "      <th>Square Footage</th>\n",
       "      <th>Total Floors</th>\n",
       "      <th>Floors Above Grade</th>\n",
       "      <th>Floors Below Grade</th>\n",
       "      <th>Usage Description</th>\n",
       "      <th>Usage Description 2</th>\n",
       "      <th>Usage Description 3</th>\n",
       "    </tr>\n",
       "  </thead>\n",
       "  <tbody>\n",
       "    <tr>\n",
       "      <th>0</th>\n",
       "      <td>Department of Natural Resources</td>\n",
       "      <td>Anderson Lake Conservation Area - Fulton County</td>\n",
       "      <td>Anderson Lake C.a.</td>\n",
       "      <td>Astoria</td>\n",
       "      <td>61501</td>\n",
       "      <td>Fulton</td>\n",
       "      <td>17</td>\n",
       "      <td>Cheri Bustos</td>\n",
       "      <td>93</td>\n",
       "      <td>Hammond Norine K.</td>\n",
       "      <td>...</td>\n",
       "      <td>In Use</td>\n",
       "      <td>1975</td>\n",
       "      <td>1975</td>\n",
       "      <td>144</td>\n",
       "      <td>1</td>\n",
       "      <td>1</td>\n",
       "      <td>0</td>\n",
       "      <td>Unusual</td>\n",
       "      <td>Unusual</td>\n",
       "      <td>Not provided</td>\n",
       "    </tr>\n",
       "    <tr>\n",
       "      <th>1</th>\n",
       "      <td>Department of Natural Resources</td>\n",
       "      <td>Anderson Lake Conservation Area - Fulton County</td>\n",
       "      <td>Anderson Lake C.a.</td>\n",
       "      <td>Astoria</td>\n",
       "      <td>61501</td>\n",
       "      <td>Fulton</td>\n",
       "      <td>17</td>\n",
       "      <td>Cheri Bustos</td>\n",
       "      <td>93</td>\n",
       "      <td>Hammond Norine K.</td>\n",
       "      <td>...</td>\n",
       "      <td>In Use</td>\n",
       "      <td>2004</td>\n",
       "      <td>2004</td>\n",
       "      <td>144</td>\n",
       "      <td>1</td>\n",
       "      <td>1</td>\n",
       "      <td>0</td>\n",
       "      <td>Unusual</td>\n",
       "      <td>Unusual</td>\n",
       "      <td>Not provided</td>\n",
       "    </tr>\n",
       "    <tr>\n",
       "      <th>2</th>\n",
       "      <td>Department of Natural Resources</td>\n",
       "      <td>Anderson Lake Conservation Area - Fulton County</td>\n",
       "      <td>Anderson Lake C.a.</td>\n",
       "      <td>Astoria</td>\n",
       "      <td>61501</td>\n",
       "      <td>Fulton</td>\n",
       "      <td>17</td>\n",
       "      <td>Cheri Bustos</td>\n",
       "      <td>93</td>\n",
       "      <td>Hammond Norine K.</td>\n",
       "      <td>...</td>\n",
       "      <td>In Use</td>\n",
       "      <td>2004</td>\n",
       "      <td>2004</td>\n",
       "      <td>144</td>\n",
       "      <td>1</td>\n",
       "      <td>1</td>\n",
       "      <td>0</td>\n",
       "      <td>Unusual</td>\n",
       "      <td>Unusual</td>\n",
       "      <td>Not provided</td>\n",
       "    </tr>\n",
       "    <tr>\n",
       "      <th>3</th>\n",
       "      <td>Department of Natural Resources</td>\n",
       "      <td>Anderson Lake Conservation Area - Fulton County</td>\n",
       "      <td>Anderson Lake C.a.</td>\n",
       "      <td>Astoria</td>\n",
       "      <td>61501</td>\n",
       "      <td>Fulton</td>\n",
       "      <td>17</td>\n",
       "      <td>Cheri Bustos</td>\n",
       "      <td>93</td>\n",
       "      <td>Hammond Norine K.</td>\n",
       "      <td>...</td>\n",
       "      <td>In Use</td>\n",
       "      <td>2004</td>\n",
       "      <td>2004</td>\n",
       "      <td>144</td>\n",
       "      <td>1</td>\n",
       "      <td>1</td>\n",
       "      <td>0</td>\n",
       "      <td>Unusual</td>\n",
       "      <td>Unusual</td>\n",
       "      <td>Not provided</td>\n",
       "    </tr>\n",
       "    <tr>\n",
       "      <th>4</th>\n",
       "      <td>Department of Natural Resources</td>\n",
       "      <td>Anderson Lake Conservation Area - Fulton County</td>\n",
       "      <td>Anderson Lake C.a.</td>\n",
       "      <td>Astoria</td>\n",
       "      <td>61501</td>\n",
       "      <td>Fulton</td>\n",
       "      <td>17</td>\n",
       "      <td>Cheri Bustos</td>\n",
       "      <td>93</td>\n",
       "      <td>Hammond Norine K.</td>\n",
       "      <td>...</td>\n",
       "      <td>In Use</td>\n",
       "      <td>2004</td>\n",
       "      <td>2004</td>\n",
       "      <td>144</td>\n",
       "      <td>1</td>\n",
       "      <td>1</td>\n",
       "      <td>0</td>\n",
       "      <td>Unusual</td>\n",
       "      <td>Unusual</td>\n",
       "      <td>Not provided</td>\n",
       "    </tr>\n",
       "  </tbody>\n",
       "</table>\n",
       "<p>5 rows × 22 columns</p>\n",
       "</div>"
      ],
      "text/plain": [
       "                       Agency Name  \\\n",
       "0  Department of Natural Resources   \n",
       "1  Department of Natural Resources   \n",
       "2  Department of Natural Resources   \n",
       "3  Department of Natural Resources   \n",
       "4  Department of Natural Resources   \n",
       "\n",
       "                                     Location Name             Address  \\\n",
       "0  Anderson Lake Conservation Area - Fulton County  Anderson Lake C.a.   \n",
       "1  Anderson Lake Conservation Area - Fulton County  Anderson Lake C.a.   \n",
       "2  Anderson Lake Conservation Area - Fulton County  Anderson Lake C.a.   \n",
       "3  Anderson Lake Conservation Area - Fulton County  Anderson Lake C.a.   \n",
       "4  Anderson Lake Conservation Area - Fulton County  Anderson Lake C.a.   \n",
       "\n",
       "      City  Zip code  County  Congress Dist Congressional Full Name  Rep Dist  \\\n",
       "0  Astoria     61501  Fulton             17            Cheri Bustos        93   \n",
       "1  Astoria     61501  Fulton             17            Cheri Bustos        93   \n",
       "2  Astoria     61501  Fulton             17            Cheri Bustos        93   \n",
       "3  Astoria     61501  Fulton             17            Cheri Bustos        93   \n",
       "4  Astoria     61501  Fulton             17            Cheri Bustos        93   \n",
       "\n",
       "       Rep Full Name         ...          Bldg Status Year Acquired  \\\n",
       "0  Hammond Norine K.         ...               In Use          1975   \n",
       "1  Hammond Norine K.         ...               In Use          2004   \n",
       "2  Hammond Norine K.         ...               In Use          2004   \n",
       "3  Hammond Norine K.         ...               In Use          2004   \n",
       "4  Hammond Norine K.         ...               In Use          2004   \n",
       "\n",
       "  Year Constructed  Square Footage  Total Floors  Floors Above Grade  \\\n",
       "0             1975             144             1                   1   \n",
       "1             2004             144             1                   1   \n",
       "2             2004             144             1                   1   \n",
       "3             2004             144             1                   1   \n",
       "4             2004             144             1                   1   \n",
       "\n",
       "   Floors Below Grade  Usage Description  Usage Description 2  \\\n",
       "0                   0            Unusual              Unusual   \n",
       "1                   0            Unusual              Unusual   \n",
       "2                   0            Unusual              Unusual   \n",
       "3                   0            Unusual              Unusual   \n",
       "4                   0            Unusual              Unusual   \n",
       "\n",
       "  Usage Description 3  \n",
       "0        Not provided  \n",
       "1        Not provided  \n",
       "2        Not provided  \n",
       "3        Not provided  \n",
       "4        Not provided  \n",
       "\n",
       "[5 rows x 22 columns]"
      ]
     },
     "execution_count": 7,
     "metadata": {},
     "output_type": "execute_result"
    }
   ],
   "source": [
    "df.head()"
   ]
  },
  {
   "cell_type": "code",
   "execution_count": 8,
   "metadata": {},
   "outputs": [
    {
     "data": {
      "text/html": [
       "<div>\n",
       "<style scoped>\n",
       "    .dataframe tbody tr th:only-of-type {\n",
       "        vertical-align: middle;\n",
       "    }\n",
       "\n",
       "    .dataframe tbody tr th {\n",
       "        vertical-align: top;\n",
       "    }\n",
       "\n",
       "    .dataframe thead th {\n",
       "        text-align: right;\n",
       "    }\n",
       "</style>\n",
       "<table border=\"1\" class=\"dataframe\">\n",
       "  <thead>\n",
       "    <tr style=\"text-align: right;\">\n",
       "      <th></th>\n",
       "      <th>Zip code</th>\n",
       "      <th>Congress Dist</th>\n",
       "      <th>Rep Dist</th>\n",
       "      <th>Senate Dist</th>\n",
       "      <th>Year Acquired</th>\n",
       "      <th>Year Constructed</th>\n",
       "      <th>Square Footage</th>\n",
       "      <th>Total Floors</th>\n",
       "      <th>Floors Above Grade</th>\n",
       "      <th>Floors Below Grade</th>\n",
       "    </tr>\n",
       "  </thead>\n",
       "  <tbody>\n",
       "    <tr>\n",
       "      <th>count</th>\n",
       "      <td>8862.000000</td>\n",
       "      <td>8862.000000</td>\n",
       "      <td>8862.000000</td>\n",
       "      <td>8862.000000</td>\n",
       "      <td>8862.000000</td>\n",
       "      <td>8862.000000</td>\n",
       "      <td>8.862000e+03</td>\n",
       "      <td>8862.000000</td>\n",
       "      <td>8862.000000</td>\n",
       "      <td>8862.000000</td>\n",
       "    </tr>\n",
       "    <tr>\n",
       "      <th>mean</th>\n",
       "      <td>61821.076845</td>\n",
       "      <td>13.404085</td>\n",
       "      <td>92.303318</td>\n",
       "      <td>46.408599</td>\n",
       "      <td>1913.267660</td>\n",
       "      <td>1906.135184</td>\n",
       "      <td>1.147603e+04</td>\n",
       "      <td>1.636087</td>\n",
       "      <td>1.449334</td>\n",
       "      <td>0.161589</td>\n",
       "    </tr>\n",
       "    <tr>\n",
       "      <th>std</th>\n",
       "      <td>1095.203357</td>\n",
       "      <td>4.037936</td>\n",
       "      <td>23.568457</td>\n",
       "      <td>11.781038</td>\n",
       "      <td>337.024796</td>\n",
       "      <td>351.180642</td>\n",
       "      <td>3.817263e+04</td>\n",
       "      <td>1.537603</td>\n",
       "      <td>1.286898</td>\n",
       "      <td>0.392717</td>\n",
       "    </tr>\n",
       "    <tr>\n",
       "      <th>min</th>\n",
       "      <td>1235.000000</td>\n",
       "      <td>0.000000</td>\n",
       "      <td>0.000000</td>\n",
       "      <td>0.000000</td>\n",
       "      <td>0.000000</td>\n",
       "      <td>0.000000</td>\n",
       "      <td>0.000000e+00</td>\n",
       "      <td>0.000000</td>\n",
       "      <td>0.000000</td>\n",
       "      <td>0.000000</td>\n",
       "    </tr>\n",
       "    <tr>\n",
       "      <th>25%</th>\n",
       "      <td>61105.000000</td>\n",
       "      <td>12.000000</td>\n",
       "      <td>79.000000</td>\n",
       "      <td>40.000000</td>\n",
       "      <td>1957.000000</td>\n",
       "      <td>1953.000000</td>\n",
       "      <td>2.330000e+02</td>\n",
       "      <td>1.000000</td>\n",
       "      <td>1.000000</td>\n",
       "      <td>0.000000</td>\n",
       "    </tr>\n",
       "    <tr>\n",
       "      <th>50%</th>\n",
       "      <td>62023.000000</td>\n",
       "      <td>14.000000</td>\n",
       "      <td>97.000000</td>\n",
       "      <td>49.000000</td>\n",
       "      <td>1975.000000</td>\n",
       "      <td>1974.000000</td>\n",
       "      <td>1.600000e+03</td>\n",
       "      <td>1.000000</td>\n",
       "      <td>1.000000</td>\n",
       "      <td>0.000000</td>\n",
       "    </tr>\n",
       "    <tr>\n",
       "      <th>75%</th>\n",
       "      <td>62650.000000</td>\n",
       "      <td>16.000000</td>\n",
       "      <td>110.000000</td>\n",
       "      <td>55.000000</td>\n",
       "      <td>1992.000000</td>\n",
       "      <td>1991.000000</td>\n",
       "      <td>6.426500e+03</td>\n",
       "      <td>2.000000</td>\n",
       "      <td>1.000000</td>\n",
       "      <td>0.000000</td>\n",
       "    </tr>\n",
       "    <tr>\n",
       "      <th>max</th>\n",
       "      <td>68297.000000</td>\n",
       "      <td>18.000000</td>\n",
       "      <td>119.000000</td>\n",
       "      <td>60.000000</td>\n",
       "      <td>2019.000000</td>\n",
       "      <td>2019.000000</td>\n",
       "      <td>1.200000e+06</td>\n",
       "      <td>31.000000</td>\n",
       "      <td>30.000000</td>\n",
       "      <td>4.000000</td>\n",
       "    </tr>\n",
       "  </tbody>\n",
       "</table>\n",
       "</div>"
      ],
      "text/plain": [
       "           Zip code  Congress Dist     Rep Dist  Senate Dist  Year Acquired  \\\n",
       "count   8862.000000    8862.000000  8862.000000  8862.000000    8862.000000   \n",
       "mean   61821.076845      13.404085    92.303318    46.408599    1913.267660   \n",
       "std     1095.203357       4.037936    23.568457    11.781038     337.024796   \n",
       "min     1235.000000       0.000000     0.000000     0.000000       0.000000   \n",
       "25%    61105.000000      12.000000    79.000000    40.000000    1957.000000   \n",
       "50%    62023.000000      14.000000    97.000000    49.000000    1975.000000   \n",
       "75%    62650.000000      16.000000   110.000000    55.000000    1992.000000   \n",
       "max    68297.000000      18.000000   119.000000    60.000000    2019.000000   \n",
       "\n",
       "       Year Constructed  Square Footage  Total Floors  Floors Above Grade  \\\n",
       "count       8862.000000    8.862000e+03   8862.000000         8862.000000   \n",
       "mean        1906.135184    1.147603e+04      1.636087            1.449334   \n",
       "std          351.180642    3.817263e+04      1.537603            1.286898   \n",
       "min            0.000000    0.000000e+00      0.000000            0.000000   \n",
       "25%         1953.000000    2.330000e+02      1.000000            1.000000   \n",
       "50%         1974.000000    1.600000e+03      1.000000            1.000000   \n",
       "75%         1991.000000    6.426500e+03      2.000000            1.000000   \n",
       "max         2019.000000    1.200000e+06     31.000000           30.000000   \n",
       "\n",
       "       Floors Below Grade  \n",
       "count         8862.000000  \n",
       "mean             0.161589  \n",
       "std              0.392717  \n",
       "min              0.000000  \n",
       "25%              0.000000  \n",
       "50%              0.000000  \n",
       "75%              0.000000  \n",
       "max              4.000000  "
      ]
     },
     "execution_count": 8,
     "metadata": {},
     "output_type": "execute_result"
    }
   ],
   "source": [
    "df.describe()"
   ]
  },
  {
   "cell_type": "code",
   "execution_count": 9,
   "metadata": {},
   "outputs": [
    {
     "data": {
      "text/plain": [
       "(8862, 22)"
      ]
     },
     "execution_count": 9,
     "metadata": {},
     "output_type": "execute_result"
    }
   ],
   "source": [
    "df.shape"
   ]
  },
  {
   "cell_type": "code",
   "execution_count": 10,
   "metadata": {},
   "outputs": [
    {
     "data": {
      "text/plain": [
       "265"
      ]
     },
     "execution_count": 10,
     "metadata": {},
     "output_type": "execute_result"
    }
   ],
   "source": [
    "(df[\"Year Acquired\"] == 0).sum()"
   ]
  },
  {
   "cell_type": "code",
   "execution_count": 11,
   "metadata": {},
   "outputs": [
    {
     "data": {
      "text/plain": [
       "289"
      ]
     },
     "execution_count": 11,
     "metadata": {},
     "output_type": "execute_result"
    }
   ],
   "source": [
    "(df[\"Year Constructed\"] == 0).sum()"
   ]
  },
  {
   "cell_type": "code",
   "execution_count": 12,
   "metadata": {},
   "outputs": [
    {
     "data": {
      "text/plain": [
       "57"
      ]
     },
     "execution_count": 12,
     "metadata": {},
     "output_type": "execute_result"
    }
   ],
   "source": [
    "(df[\"Square Footage\"] == 0).sum()"
   ]
  },
  {
   "cell_type": "code",
   "execution_count": 13,
   "metadata": {},
   "outputs": [],
   "source": [
    "df = pd.read_csv(\"building_inventory.csv\", na_values={\n",
    "    \"Year Acquired\": 0,\n",
    "    \"Year Constructed\": 0,\n",
    "    \"Square Footage\": 0\n",
    "})"
   ]
  },
  {
   "cell_type": "code",
   "execution_count": 14,
   "metadata": {},
   "outputs": [
    {
     "data": {
      "text/html": [
       "<div>\n",
       "<style scoped>\n",
       "    .dataframe tbody tr th:only-of-type {\n",
       "        vertical-align: middle;\n",
       "    }\n",
       "\n",
       "    .dataframe tbody tr th {\n",
       "        vertical-align: top;\n",
       "    }\n",
       "\n",
       "    .dataframe thead th {\n",
       "        text-align: right;\n",
       "    }\n",
       "</style>\n",
       "<table border=\"1\" class=\"dataframe\">\n",
       "  <thead>\n",
       "    <tr style=\"text-align: right;\">\n",
       "      <th></th>\n",
       "      <th>Zip code</th>\n",
       "      <th>Congress Dist</th>\n",
       "      <th>Rep Dist</th>\n",
       "      <th>Senate Dist</th>\n",
       "      <th>Year Acquired</th>\n",
       "      <th>Year Constructed</th>\n",
       "      <th>Square Footage</th>\n",
       "      <th>Total Floors</th>\n",
       "      <th>Floors Above Grade</th>\n",
       "      <th>Floors Below Grade</th>\n",
       "    </tr>\n",
       "  </thead>\n",
       "  <tbody>\n",
       "    <tr>\n",
       "      <th>count</th>\n",
       "      <td>8862.000000</td>\n",
       "      <td>8862.000000</td>\n",
       "      <td>8862.000000</td>\n",
       "      <td>8862.000000</td>\n",
       "      <td>8597.000000</td>\n",
       "      <td>8573.000000</td>\n",
       "      <td>8.805000e+03</td>\n",
       "      <td>8862.000000</td>\n",
       "      <td>8862.000000</td>\n",
       "      <td>8862.000000</td>\n",
       "    </tr>\n",
       "    <tr>\n",
       "      <th>mean</th>\n",
       "      <td>61821.076845</td>\n",
       "      <td>13.404085</td>\n",
       "      <td>92.303318</td>\n",
       "      <td>46.408599</td>\n",
       "      <td>1972.243573</td>\n",
       "      <td>1970.391928</td>\n",
       "      <td>1.155032e+04</td>\n",
       "      <td>1.636087</td>\n",
       "      <td>1.449334</td>\n",
       "      <td>0.161589</td>\n",
       "    </tr>\n",
       "    <tr>\n",
       "      <th>std</th>\n",
       "      <td>1095.203357</td>\n",
       "      <td>4.037936</td>\n",
       "      <td>23.568457</td>\n",
       "      <td>11.781038</td>\n",
       "      <td>27.549380</td>\n",
       "      <td>29.326256</td>\n",
       "      <td>3.828480e+04</td>\n",
       "      <td>1.537603</td>\n",
       "      <td>1.286898</td>\n",
       "      <td>0.392717</td>\n",
       "    </tr>\n",
       "    <tr>\n",
       "      <th>min</th>\n",
       "      <td>1235.000000</td>\n",
       "      <td>0.000000</td>\n",
       "      <td>0.000000</td>\n",
       "      <td>0.000000</td>\n",
       "      <td>1753.000000</td>\n",
       "      <td>1753.000000</td>\n",
       "      <td>9.000000e+00</td>\n",
       "      <td>0.000000</td>\n",
       "      <td>0.000000</td>\n",
       "      <td>0.000000</td>\n",
       "    </tr>\n",
       "    <tr>\n",
       "      <th>25%</th>\n",
       "      <td>61105.000000</td>\n",
       "      <td>12.000000</td>\n",
       "      <td>79.000000</td>\n",
       "      <td>40.000000</td>\n",
       "      <td>1959.000000</td>\n",
       "      <td>1957.000000</td>\n",
       "      <td>2.400000e+02</td>\n",
       "      <td>1.000000</td>\n",
       "      <td>1.000000</td>\n",
       "      <td>0.000000</td>\n",
       "    </tr>\n",
       "    <tr>\n",
       "      <th>50%</th>\n",
       "      <td>62023.000000</td>\n",
       "      <td>14.000000</td>\n",
       "      <td>97.000000</td>\n",
       "      <td>49.000000</td>\n",
       "      <td>1976.000000</td>\n",
       "      <td>1975.000000</td>\n",
       "      <td>1.664000e+03</td>\n",
       "      <td>1.000000</td>\n",
       "      <td>1.000000</td>\n",
       "      <td>0.000000</td>\n",
       "    </tr>\n",
       "    <tr>\n",
       "      <th>75%</th>\n",
       "      <td>62650.000000</td>\n",
       "      <td>16.000000</td>\n",
       "      <td>110.000000</td>\n",
       "      <td>55.000000</td>\n",
       "      <td>1993.000000</td>\n",
       "      <td>1991.000000</td>\n",
       "      <td>6.528000e+03</td>\n",
       "      <td>2.000000</td>\n",
       "      <td>1.000000</td>\n",
       "      <td>0.000000</td>\n",
       "    </tr>\n",
       "    <tr>\n",
       "      <th>max</th>\n",
       "      <td>68297.000000</td>\n",
       "      <td>18.000000</td>\n",
       "      <td>119.000000</td>\n",
       "      <td>60.000000</td>\n",
       "      <td>2019.000000</td>\n",
       "      <td>2019.000000</td>\n",
       "      <td>1.200000e+06</td>\n",
       "      <td>31.000000</td>\n",
       "      <td>30.000000</td>\n",
       "      <td>4.000000</td>\n",
       "    </tr>\n",
       "  </tbody>\n",
       "</table>\n",
       "</div>"
      ],
      "text/plain": [
       "           Zip code  Congress Dist     Rep Dist  Senate Dist  Year Acquired  \\\n",
       "count   8862.000000    8862.000000  8862.000000  8862.000000    8597.000000   \n",
       "mean   61821.076845      13.404085    92.303318    46.408599    1972.243573   \n",
       "std     1095.203357       4.037936    23.568457    11.781038      27.549380   \n",
       "min     1235.000000       0.000000     0.000000     0.000000    1753.000000   \n",
       "25%    61105.000000      12.000000    79.000000    40.000000    1959.000000   \n",
       "50%    62023.000000      14.000000    97.000000    49.000000    1976.000000   \n",
       "75%    62650.000000      16.000000   110.000000    55.000000    1993.000000   \n",
       "max    68297.000000      18.000000   119.000000    60.000000    2019.000000   \n",
       "\n",
       "       Year Constructed  Square Footage  Total Floors  Floors Above Grade  \\\n",
       "count       8573.000000    8.805000e+03   8862.000000         8862.000000   \n",
       "mean        1970.391928    1.155032e+04      1.636087            1.449334   \n",
       "std           29.326256    3.828480e+04      1.537603            1.286898   \n",
       "min         1753.000000    9.000000e+00      0.000000            0.000000   \n",
       "25%         1957.000000    2.400000e+02      1.000000            1.000000   \n",
       "50%         1975.000000    1.664000e+03      1.000000            1.000000   \n",
       "75%         1991.000000    6.528000e+03      2.000000            1.000000   \n",
       "max         2019.000000    1.200000e+06     31.000000           30.000000   \n",
       "\n",
       "       Floors Below Grade  \n",
       "count         8862.000000  \n",
       "mean             0.161589  \n",
       "std              0.392717  \n",
       "min              0.000000  \n",
       "25%              0.000000  \n",
       "50%              0.000000  \n",
       "75%              0.000000  \n",
       "max              4.000000  "
      ]
     },
     "execution_count": 14,
     "metadata": {},
     "output_type": "execute_result"
    }
   ],
   "source": [
    "df.describe()"
   ]
  },
  {
   "cell_type": "code",
   "execution_count": 15,
   "metadata": {},
   "outputs": [
    {
     "data": {
      "text/plain": [
       "[<matplotlib.lines.Line2D at 0x7fb9ca687240>]"
      ]
     },
     "execution_count": 15,
     "metadata": {},
     "output_type": "execute_result"
    },
    {
     "data": {
      "image/png": "[encoded data removed]",
      "text/plain": [
       "<Figure size 432x288 with 1 Axes>"
      ]
     },
     "metadata": {
      "needs_background": "light"
     },
     "output_type": "display_data"
    }
   ],
   "source": [
    "plt.plot([1,2,3,4], [5, 1, 2, 4], \"-o\")"
   ]
  },
  {
   "cell_type": "code",
   "execution_count": 16,
   "metadata": {},
   "outputs": [],
   "source": [
    "plt.rcParams[\"figure.dpi\"] = 200"
   ]
  },
  {
   "cell_type": "code",
   "execution_count": 17,
   "metadata": {},
   "outputs": [
    {
     "data": {
      "text/plain": [
       "Text(0,0.5,'Year Acquired')"
      ]
     },
     "execution_count": 17,
     "metadata": {},
     "output_type": "execute_result"
    },
    {
     "data": {
      "image/png": "[encoded data removed]",
      "text/plain": [
       "<Figure size 1200x800 with 1 Axes>"
      ]
     },
     "metadata": {
      "needs_background": "light"
     },
     "output_type": "display_data"
    }
   ],
   "source": [
    "plt.plot(df[\"Year Constructed\"], df[\"Year Acquired\"], '.')\n",
    "plt.xlabel(\"Year Constructed\")\n",
    "plt.ylabel(\"Year Acquired\")"
   ]
  },
  {
   "cell_type": "code",
   "execution_count": 18,
   "metadata": {},
   "outputs": [],
   "source": [
    "df[\"Age at Acquisition\"] = df[\"Year Acquired\"] - df[\"Year Constructed\"]"
   ]
  },
  {
   "cell_type": "code",
   "execution_count": 19,
   "metadata": {},
   "outputs": [
    {
     "data": {
      "text/plain": [
       "count    8544.000000\n",
       "mean        1.810276\n",
       "std        12.015887\n",
       "min      -113.000000\n",
       "25%         0.000000\n",
       "50%         0.000000\n",
       "75%         0.000000\n",
       "max       233.000000\n",
       "Name: Age at Acquisition, dtype: float64"
      ]
     },
     "execution_count": 19,
     "metadata": {},
     "output_type": "execute_result"
    }
   ],
   "source": [
    "df[\"Age at Acquisition\"].describe()"
   ]
  },
  {
   "cell_type": "code",
   "execution_count": 20,
   "metadata": {},
   "outputs": [],
   "source": [
    "old_buildings = df[\n",
    "    df[\"Age at Acquisition\"] >= 0\n",
    "]"
   ]
  },
  {
   "cell_type": "code",
   "execution_count": 21,
   "metadata": {},
   "outputs": [
    {
     "data": {
      "text/plain": [
       "Text(0,0.5,'Count')"
      ]
     },
     "execution_count": 21,
     "metadata": {},
     "output_type": "execute_result"
    },
    {
     "data": {
      "image/png": "[encoded data removed]",
      "text/plain": [
       "<Figure size 1200x800 with 1 Axes>"
      ]
     },
     "metadata": {
      "needs_background": "light"
     },
     "output_type": "display_data"
    }
   ],
   "source": [
    "plt.hist(old_buildings[\"Age at Acquisition\"], log=True)\n",
    "plt.xlabel(\"Age at Acquisition\")\n",
    "plt.ylabel(\"Count\")"
   ]
  },
  {
   "cell_type": "code",
   "execution_count": 22,
   "metadata": {},
   "outputs": [
    {
     "data": {
      "text/plain": [
       "array(['Department of Natural Resources', 'Department of Corrections',\n",
       "       'Department of Human Services', 'Department of Transportation',\n",
       "       'Department of State Police', 'Department of Military Affairs',\n",
       "       'Department of Agriculture', 'Governors State University',\n",
       "       'Department of Central Management Services',\n",
       "       'Illinois State University', 'Historic Preservation Agency',\n",
       "       'Department of Juvenile Justice', 'Southern Illinois University',\n",
       "       'Illinois Medical District Commission', 'University of Illinois',\n",
       "       \"Department of Veterans' Affairs\", 'Chicago State University',\n",
       "       'Northern Illinois University', 'Office of the Secretary of State',\n",
       "       'Illinois Emergency Management Agency',\n",
       "       'Western Illinois University', 'Eastern Illinois University',\n",
       "       'Northeastern Illinois University',\n",
       "       'Illinois Community College Board',\n",
       "       'Illinois Board of Higher Education',\n",
       "       'IL State Board of Education', 'Department of Revenue',\n",
       "       \"Governor's Office\", 'Office of the Attorney General',\n",
       "       'Appellate Court / Fourth District', 'Department of Public Health',\n",
       "       'Illinois Courts', 'Appellate Court / Third District',\n",
       "       'Appellate Court / Fifth District',\n",
       "       'Appellate Court / Second District'], dtype=object)"
      ]
     },
     "execution_count": 22,
     "metadata": {},
     "output_type": "execute_result"
    }
   ],
   "source": [
    "df[\"Agency Name\"].unique()"
   ]
  },
  {
   "cell_type": "code",
   "execution_count": 23,
   "metadata": {},
   "outputs": [],
   "source": [
    "df_by_agency = df.groupby(\"Agency Name\")"
   ]
  },
  {
   "cell_type": "code",
   "execution_count": 24,
   "metadata": {},
   "outputs": [
    {
     "name": "stdout",
     "output_type": "stream",
     "text": [
      "Appellate Court / Fifth District (1, 23)\n",
      "Appellate Court / Fourth District (1, 23)\n",
      "Appellate Court / Second District (1, 23)\n",
      "Appellate Court / Third District (2, 23)\n",
      "Chicago State University (16, 23)\n",
      "Department of Agriculture (228, 23)\n",
      "Department of Central Management Services (60, 23)\n",
      "Department of Corrections (1428, 23)\n",
      "Department of Human Services (617, 23)\n",
      "Department of Juvenile Justice (120, 23)\n",
      "Department of Military Affairs (231, 23)\n",
      "Department of Natural Resources (3223, 23)\n",
      "Department of Public Health (2, 23)\n",
      "Department of Revenue (1, 23)\n",
      "Department of State Police (109, 23)\n",
      "Department of Transportation (1137, 23)\n",
      "Department of Veterans' Affairs (94, 23)\n",
      "Eastern Illinois University (35, 23)\n",
      "Governor's Office (1, 23)\n",
      "Governors State University (11, 23)\n",
      "Historic Preservation Agency (284, 23)\n",
      "IL State Board of Education (1, 23)\n",
      "Illinois Board of Higher Education (10, 23)\n",
      "Illinois Community College Board (15, 23)\n",
      "Illinois Courts (1, 23)\n",
      "Illinois Emergency Management Agency (2, 23)\n",
      "Illinois Medical District Commission (3, 23)\n",
      "Illinois State University (102, 23)\n",
      "Northeastern Illinois University (18, 23)\n",
      "Northern Illinois University (79, 23)\n",
      "Office of the Attorney General (1, 23)\n",
      "Office of the Secretary of State (41, 23)\n",
      "Southern Illinois University (420, 23)\n",
      "University of Illinois (525, 23)\n",
      "Western Illinois University (42, 23)\n"
     ]
    }
   ],
   "source": [
    "for agency_name, new_df in df_by_agency:\n",
    "    print(agency_name, new_df.shape)"
   ]
  },
  {
   "cell_type": "code",
   "execution_count": 25,
   "metadata": {},
   "outputs": [
    {
     "data": {
      "text/plain": [
       "Agency Name\n",
       "Appellate Court / Fifth District                15124.0\n",
       "Appellate Court / Fourth District               16400.0\n",
       "Appellate Court / Second District               43330.0\n",
       "Appellate Court / Third District                18700.0\n",
       "Chicago State University                      1219492.0\n",
       "Department of Agriculture                     2608398.0\n",
       "Department of Central Management Services     4260911.0\n",
       "Department of Corrections                    15120750.0\n",
       "Department of Human Services                  8466774.0\n",
       "Department of Juvenile Justice                1147982.0\n",
       "Department of Military Affairs                4579470.0\n",
       "Department of Natural Resources               3937319.0\n",
       "Department of Public Health                      7160.0\n",
       "Department of Revenue                          913236.0\n",
       "Department of State Police                     828851.0\n",
       "Department of Transportation                  5659737.0\n",
       "Department of Veterans' Affairs               1483981.0\n",
       "Eastern Illinois University                   1164674.0\n",
       "Governor's Office                               45120.0\n",
       "Governors State University                    1055971.0\n",
       "Historic Preservation Agency                  1667954.0\n",
       "IL State Board of Education                     19147.0\n",
       "Illinois Board of Higher Education             545816.0\n",
       "Illinois Community College Board               486473.0\n",
       "Illinois Courts                                 54540.0\n",
       "Illinois Emergency Management Agency            55650.0\n",
       "Illinois Medical District Commission            46200.0\n",
       "Illinois State University                     2960272.0\n",
       "Northeastern Illinois University              1110103.0\n",
       "Northern Illinois University                  3751095.0\n",
       "Office of the Attorney General                  60500.0\n",
       "Office of the Secretary of State              2273828.0\n",
       "Southern Illinois University                  8709473.0\n",
       "University of Illinois                       25018006.0\n",
       "Western Illinois University                   2348109.0\n",
       "Name: Square Footage, dtype: float64"
      ]
     },
     "execution_count": 25,
     "metadata": {},
     "output_type": "execute_result"
    }
   ],
   "source": [
    "df_by_agency[\"Square Footage\"].sum()"
   ]
  },
  {
   "cell_type": "code",
   "execution_count": null,
   "metadata": {},
   "outputs": [],
   "source": []
  },
  {
   "cell_type": "code",
   "execution_count": null,
   "metadata": {},
   "outputs": [],
   "source": []
  }
 ],
 "metadata": {
  "kernelspec": {
   "display_name": "Environment (conda_conda)",
   "language": "python",
   "name": "conda_conda"
  },
  "language_info": {
   "codemirror_mode": {
    "name": "ipython",
    "version": 3
   },
   "file_extension": ".py",
   "mimetype": "text/x-python",
   "name": "python",
   "nbconvert_exporter": "python",
   "pygments_lexer": "ipython3",
   "version": "3.6.6"
  }
 },
 "nbformat": 4,
 "nbformat_minor": 2
}
