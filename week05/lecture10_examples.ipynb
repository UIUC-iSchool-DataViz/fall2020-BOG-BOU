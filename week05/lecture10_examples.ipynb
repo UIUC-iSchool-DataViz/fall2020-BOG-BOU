{
 "cells": [
  {
   "cell_type": "code",
   "execution_count": 1,
   "metadata": {},
   "outputs": [],
   "source": [
    "import bqplot\n",
    "import numpy as np"
   ]
  },
  {
   "cell_type": "code",
   "execution_count": 2,
   "metadata": {},
   "outputs": [],
   "source": [
    "x = np.arange(100)\n",
    "y = np.random.random(100) + 5\n",
    "\n",
    "x_sc = bqplot.LinearScale()\n",
    "y_sc = bqplot.LinearScale()\n",
    "\n",
    "lines = bqplot.Lines(x = x, y = y,\n",
    "                    scales = {'x': x_sc, 'y': y_sc})\n",
    "\n",
    "ax_x = bqplot.Axis(scale = x_sc, label = 'X Value')\n",
    "ax_y = bqplot.Axis(scale = y_sc, label = 'Y Value',\n",
    "                   \n",
    "                   orientation = 'vertical')\n",
    "\n",
    "fig = bqplot.Figure(marks = [lines], axes = [ax_x, ax_y])\n",
    "display(fig)"
   ]
  },
  {
   "cell_type": "code",
   "execution_count": 13,
   "metadata": {},
   "outputs": [
    {
     "data": {
      "application/vnd.jupyter.widget-view+json": {
       "model_id": "9a21cba7b2d74f15af916b455993d469",
       "version_major": 2,
       "version_minor": 0
      },
      "text/plain": [
       "Figure(axes=[Axis(label='X Value', scale=LinearScale()), Axis(label='Y Value', orientation='vertical', scale=L…"
      ]
     },
     "metadata": {},
     "output_type": "display_data"
    }
   ],
   "source": [
    "x = np.arange(100)\n",
    "y = x**2 + np.random.random(100) * 10\n",
    "\n",
    "x_sc = bqplot.LinearScale()\n",
    "y_sc = bqplot.LogScale()\n",
    "lines = bqplot.Lines(x = x, y = y, scales = {'x': x_sc, 'y': y_sc})\n",
    "ax_x = bqplot.Axis(scale = x_sc, label = 'X Value')\n",
    "ax_y = bqplot.Axis(scale = y_sc, label = 'Y Value', orientation = 'vertical')\n",
    "fig = bqplot.Figure(marks = [lines], axes = [ax_x, ax_y])\n",
    "display(fig)"
   ]
  },
  {
   "cell_type": "code",
   "execution_count": 15,
   "metadata": {},
   "outputs": [
    {
     "data": {
      "application/vnd.jupyter.widget-view+json": {
       "model_id": "23145b4fb85844b3b0778457120c259a",
       "version_major": 2,
       "version_minor": 0
      },
      "text/plain": [
       "Figure(axes=[Axis(label='X Value', scale=LinearScale()), Axis(label='Y Value', orientation='vertical', scale=L…"
      ]
     },
     "metadata": {},
     "output_type": "display_data"
    }
   ],
   "source": [
    "x = np.arange(100)\n",
    "y = np.random.random(100) + 5\n",
    "\n",
    "x_sc = bqplot.LinearScale()\n",
    "y_sc = bqplot.LinearScale()\n",
    "\n",
    "lines = bqplot.Lines(x = x, y = y, scales = {'x': x_sc, 'y': y_sc})\n",
    "\n",
    "ax_x = bqplot.Axis(scale = x_sc, label = 'X Value')\n",
    "ax_y = bqplot.Axis(scale = y_sc, label = 'Y Value', orientation = 'vertical')\n",
    "\n",
    "pan_zoom = bqplot.PanZoom(scales = {'x': [x_sc], 'y': [y_sc]})\n",
    "\n",
    "fig = bqplot.Figure(marks = [lines], axes = [ax_x, ax_y], interaction = pan_zoom)\n",
    "display(fig)"
   ]
  },
  {
   "cell_type": "code",
   "execution_count": 19,
   "metadata": {},
   "outputs": [
    {
     "data": {
      "application/vnd.jupyter.widget-view+json": {
       "model_id": "3c91f52ea1434391b0f1ead153b4e8db",
       "version_major": 2,
       "version_minor": 0
      },
      "text/plain": [
       "Figure(axes=[Axis(label='X Value', scale=LinearScale()), Axis(label='Y Value', orientation='vertical', scale=L…"
      ]
     },
     "metadata": {},
     "output_type": "display_data"
    }
   ],
   "source": [
    "x = np.arange(100)\n",
    "y = np.random.random(100) + 5\n",
    "\n",
    "x_sc = bqplot.LinearScale()\n",
    "y_sc = bqplot.LinearScale()\n",
    "\n",
    "lines = bqplot.Lines(x = x, y = y, scales = {'x': x_sc, 'y': y_sc})\n",
    "\n",
    "ax_x = bqplot.Axis(scale = x_sc, label = 'X Value')\n",
    "ax_y = bqplot.Axis(scale = y_sc, label = 'Y Value', orientation = 'vertical')\n",
    "\n",
    "interval_selector = bqplot.interacts.FastIntervalSelector(scale = x_sc)\n",
    "\n",
    "fig = bqplot.Figure(marks = [lines], axes = [ax_x, ax_y], interaction = interval_selector)\n",
    "display(fig)"
   ]
  },
  {
   "cell_type": "code",
   "execution_count": 21,
   "metadata": {},
   "outputs": [],
   "source": [
    "import ipywidgets\n",
    "import traitlets"
   ]
  },
  {
   "cell_type": "code",
   "execution_count": 31,
   "metadata": {},
   "outputs": [
    {
     "data": {
      "application/vnd.jupyter.widget-view+json": {
       "model_id": "91a3dadc0bc24e388b7f542e1e38a4cd",
       "version_major": 2,
       "version_minor": 0
      },
      "text/plain": [
       "VBox(children=(Label(value='Lower Limit:'), Label(value='Upper Limit:'), Figure(axes=[Axis(label='X Value', sc…"
      ]
     },
     "metadata": {},
     "output_type": "display_data"
    }
   ],
   "source": [
    "x = np.arange(100)\n",
    "y = np.random.random(100) + 5\n",
    "\n",
    "x_sc = bqplot.LinearScale()\n",
    "y_sc = bqplot.LinearScale()\n",
    "\n",
    "lines = bqplot.Lines(x = x, y = y, scales = {'x': x_sc, 'y': y_sc})\n",
    "\n",
    "ax_x = bqplot.Axis(scale = x_sc, label = 'X Value')\n",
    "ax_y = bqplot.Axis(scale = y_sc, label = 'Y Value', orientation = 'vertical')\n",
    "\n",
    "interval_selector = bqplot.interacts.FastIntervalSelector(scale = x_sc)\n",
    "\n",
    "label_lower = ipywidgets.Label(\"Lower Limit:\")\n",
    "label_upper = ipywidgets.Label(\"Upper Limit:\")\n",
    "\n",
    "def on_change_selected(change):\n",
    "    if change['new'].size < 2: return\n",
    "    lower = change['new'][0]\n",
    "    upper = change['new'][1]\n",
    "    \n",
    "    label_lower.value = \"Lower Limit: %s\" % lower\n",
    "    label_upper.value = \"Upper Limit: %s\" % upper\n",
    "\n",
    "interval_selector.observe(on_change_selected, ['selected'])\n",
    "\n",
    "fig = bqplot.Figure(marks = [lines], axes = [ax_x, ax_y], interaction = interval_selector)\n",
    "display(ipywidgets.VBox([label_lower, label_upper, fig]))"
   ]
  },
  {
   "cell_type": "code",
   "execution_count": 44,
   "metadata": {},
   "outputs": [
    {
     "data": {
      "application/vnd.jupyter.widget-view+json": {
       "model_id": "c7c273aa78c947b684503f8dfcec884a",
       "version_major": 2,
       "version_minor": 0
      },
      "text/plain": [
       "VBox(children=(Label(value='Lower Limit:'), Label(value='Upper Limit:'), HBox(children=(Figure(axes=[Axis(labe…"
      ]
     },
     "metadata": {},
     "output_type": "display_data"
    }
   ],
   "source": [
    "x = np.arange(100)\n",
    "y1 = np.random.random(100) + 5\n",
    "y2 = x**2 + np.random.random(100) * 10\n",
    "\n",
    "x_sc = bqplot.LinearScale()\n",
    "y1_sc = bqplot.LinearScale()\n",
    "y2_sc = bqplot.LogScale()\n",
    "\n",
    "lines1 = bqplot.Lines(x = x, y = y1, scales = {'x': x_sc, 'y': y1_sc})\n",
    "lines2 = bqplot.Lines(x = x, y = y2, scales = {'x': x_sc, 'y': y2_sc})\n",
    "\n",
    "ax_x = bqplot.Axis(scale = x_sc, label = 'X Value')\n",
    "ax_y1 = bqplot.Axis(scale = y1_sc, label = 'Y Value', orientation = 'vertical')\n",
    "ax_y2 = bqplot.Axis(scale = y2_sc, label = 'Y Value', orientation = 'vertical')\n",
    "\n",
    "interval_selector = bqplot.interacts.FastIntervalSelector(scale = x_sc)\n",
    "\n",
    "label_lower = ipywidgets.Label(\"Lower Limit:\")\n",
    "label_upper = ipywidgets.Label(\"Upper Limit:\")\n",
    "\n",
    "def on_change_selected(change):\n",
    "    if change['new'].size < 2: return\n",
    "    lower = change['new'][0]\n",
    "    upper = change['new'][1]\n",
    "    \n",
    "    label_lower.value = \"Lower Limit: %s\" % lower\n",
    "    label_upper.value = \"Upper Limit: %s\" % upper\n",
    "\n",
    "interval_selector.observe(on_change_selected, ['selected'])\n",
    "\n",
    "fig1 = bqplot.Figure(marks = [lines1], axes = [ax_x, ax_y1], interaction = interval_selector)\n",
    "fig2 = bqplot.Figure(marks = [lines2], axes = [ax_x, ax_y2], interaction = interval_selector)\n",
    "display(ipywidgets.VBox([label_lower, label_upper, ipywidgets.HBox([fig1, fig2])]))"
   ]
  },
  {
   "cell_type": "code",
   "execution_count": 45,
   "metadata": {},
   "outputs": [
    {
     "data": {
      "application/vnd.jupyter.widget-view+json": {
       "model_id": "7949bdd6c555482997b059a0ee3976c3",
       "version_major": 2,
       "version_minor": 0
      },
      "text/plain": [
       "VBox(children=(Label(value='Lower Limit:'), Label(value='Upper Limit:'), HBox(children=(Figure(axes=[Axis(labe…"
      ]
     },
     "metadata": {},
     "output_type": "display_data"
    }
   ],
   "source": [
    "x = np.arange(100)\n",
    "y1 = np.random.random(100) + 5\n",
    "y2 = x**2 + np.random.random(100) * 10\n",
    "\n",
    "x_sc = bqplot.LinearScale()\n",
    "y1_sc = bqplot.LinearScale()\n",
    "y2_sc = bqplot.LogScale()\n",
    "\n",
    "lines1 = bqplot.Lines(x = x, y = y1, scales = {'x': x_sc, 'y': y1_sc})\n",
    "lines2 = bqplot.Lines(x = x, y = y2, scales = {'x': x_sc, 'y': y2_sc})\n",
    "\n",
    "ax_x = bqplot.Axis(scale = x_sc, label = 'X Value')\n",
    "ax_y1 = bqplot.Axis(scale = y1_sc, label = 'Y Value', orientation = 'vertical')\n",
    "ax_y2 = bqplot.Axis(scale = y2_sc, label = 'Y Value', orientation = 'vertical')\n",
    "\n",
    "interval_selector = bqplot.interacts.FastIntervalSelector(scale = x_sc)\n",
    "\n",
    "label_lower = ipywidgets.Label(\"Lower Limit:\")\n",
    "label_upper = ipywidgets.Label(\"Upper Limit:\")\n",
    "\n",
    "def on_change_selected(change):\n",
    "    if change['new'].size < 2: return\n",
    "    lower = change['new'][0]\n",
    "    upper = change['new'][1]\n",
    "    \n",
    "    label_lower.value = \"Lower Limit: %s\" % lower\n",
    "    label_upper.value = \"Upper Limit: %s\" % upper\n",
    "    \n",
    "    selected_points = (x > lower) & (x < upper)\n",
    "\n",
    "\n",
    "interval_selector.observe(on_change_selected, ['selected'])\n",
    "\n",
    "fig1 = bqplot.Figure(marks = [lines1], axes = [ax_x, ax_y1], interaction = interval_selector)\n",
    "fig2 = bqplot.Figure(marks = [lines2], axes = [ax_x, ax_y2], interaction = interval_selector)\n",
    "\n",
    "scatter = bqplot.Scatter(x = y1, y = y2, scales = {'x': y1_sc, 'y': y2_sc})\n",
    "ax_y3 = bqplot.Axis(scale = y1_sc)\n",
    "ax_y4 = bqplot.Axis(scale = y2_sc, orientation = 'vertical')\n",
    "fig3 = bqplot.Figure(marks = [scatter], axes = [ax_y3, ax_y4])\n",
    "\n",
    "display(ipywidgets.VBox([label_lower, label_upper,\n",
    "                         ipywidgets.HBox([fig1, fig2]),\n",
    "                         fig3]))"
   ]
  },
  {
   "cell_type": "code",
   "execution_count": 60,
   "metadata": {},
   "outputs": [
    {
     "data": {
      "application/vnd.jupyter.widget-view+json": {
       "model_id": "8e045df3f1924b26ad8ac24f8073961d",
       "version_major": 2,
       "version_minor": 0
      },
      "text/plain": [
       "VBox(children=(Label(value='Lower Limit:'), Label(value='Upper Limit:'), HBox(children=(Figure(axes=[Axis(labe…"
      ]
     },
     "metadata": {},
     "output_type": "display_data"
    },
    {
     "ename": "TypeError",
     "evalue": "'>' not supported between instances of 'int' and 'NoneType'",
     "output_type": "error",
     "traceback": [
      "\u001b[0;31m---------------------------------------------------------------------------\u001b[0m",
      "\u001b[0;31mTypeError\u001b[0m                                 Traceback (most recent call last)",
      "\u001b[0;32m/opt/conda/lib/python3.6/site-packages/ipywidgets/widgets/widget.py\u001b[0m in \u001b[0;36m_handle_msg\u001b[0;34m(self, msg)\u001b[0m\n\u001b[1;32m    667\u001b[0m                 \u001b[0;32mif\u001b[0m \u001b[0;34m'buffer_paths'\u001b[0m \u001b[0;32min\u001b[0m \u001b[0mdata\u001b[0m\u001b[0;34m:\u001b[0m\u001b[0;34m\u001b[0m\u001b[0m\n\u001b[1;32m    668\u001b[0m                     \u001b[0m_put_buffers\u001b[0m\u001b[0;34m(\u001b[0m\u001b[0mstate\u001b[0m\u001b[0;34m,\u001b[0m \u001b[0mdata\u001b[0m\u001b[0;34m[\u001b[0m\u001b[0;34m'buffer_paths'\u001b[0m\u001b[0;34m]\u001b[0m\u001b[0;34m,\u001b[0m \u001b[0mmsg\u001b[0m\u001b[0;34m[\u001b[0m\u001b[0;34m'buffers'\u001b[0m\u001b[0;34m]\u001b[0m\u001b[0;34m)\u001b[0m\u001b[0;34m\u001b[0m\u001b[0m\n\u001b[0;32m--> 669\u001b[0;31m                 \u001b[0mself\u001b[0m\u001b[0;34m.\u001b[0m\u001b[0mset_state\u001b[0m\u001b[0;34m(\u001b[0m\u001b[0mstate\u001b[0m\u001b[0;34m)\u001b[0m\u001b[0;34m\u001b[0m\u001b[0m\n\u001b[0m\u001b[1;32m    670\u001b[0m \u001b[0;34m\u001b[0m\u001b[0m\n\u001b[1;32m    671\u001b[0m         \u001b[0;31m# Handle a state request.\u001b[0m\u001b[0;34m\u001b[0m\u001b[0;34m\u001b[0m\u001b[0m\n",
      "\u001b[0;32m/opt/conda/lib/python3.6/site-packages/ipywidgets/widgets/widget.py\u001b[0m in \u001b[0;36mset_state\u001b[0;34m(self, sync_data)\u001b[0m\n\u001b[1;32m    537\u001b[0m                     from_json = self.trait_metadata(name, 'from_json',\n\u001b[1;32m    538\u001b[0m                                                     self._trait_from_json)\n\u001b[0;32m--> 539\u001b[0;31m                     \u001b[0mself\u001b[0m\u001b[0;34m.\u001b[0m\u001b[0mset_trait\u001b[0m\u001b[0;34m(\u001b[0m\u001b[0mname\u001b[0m\u001b[0;34m,\u001b[0m \u001b[0mfrom_json\u001b[0m\u001b[0;34m(\u001b[0m\u001b[0msync_data\u001b[0m\u001b[0;34m[\u001b[0m\u001b[0mname\u001b[0m\u001b[0;34m]\u001b[0m\u001b[0;34m,\u001b[0m \u001b[0mself\u001b[0m\u001b[0;34m)\u001b[0m\u001b[0;34m)\u001b[0m\u001b[0;34m\u001b[0m\u001b[0m\n\u001b[0m\u001b[1;32m    540\u001b[0m \u001b[0;34m\u001b[0m\u001b[0m\n\u001b[1;32m    541\u001b[0m     \u001b[0;32mdef\u001b[0m \u001b[0msend\u001b[0m\u001b[0;34m(\u001b[0m\u001b[0mself\u001b[0m\u001b[0;34m,\u001b[0m \u001b[0mcontent\u001b[0m\u001b[0;34m,\u001b[0m \u001b[0mbuffers\u001b[0m\u001b[0;34m=\u001b[0m\u001b[0;32mNone\u001b[0m\u001b[0;34m)\u001b[0m\u001b[0;34m:\u001b[0m\u001b[0;34m\u001b[0m\u001b[0m\n",
      "\u001b[0;32m/opt/conda/lib/python3.6/contextlib.py\u001b[0m in \u001b[0;36m__exit__\u001b[0;34m(self, type, value, traceback)\u001b[0m\n\u001b[1;32m     86\u001b[0m         \u001b[0;32mif\u001b[0m \u001b[0mtype\u001b[0m \u001b[0;32mis\u001b[0m \u001b[0;32mNone\u001b[0m\u001b[0;34m:\u001b[0m\u001b[0;34m\u001b[0m\u001b[0m\n\u001b[1;32m     87\u001b[0m             \u001b[0;32mtry\u001b[0m\u001b[0;34m:\u001b[0m\u001b[0;34m\u001b[0m\u001b[0m\n\u001b[0;32m---> 88\u001b[0;31m                 \u001b[0mnext\u001b[0m\u001b[0;34m(\u001b[0m\u001b[0mself\u001b[0m\u001b[0;34m.\u001b[0m\u001b[0mgen\u001b[0m\u001b[0;34m)\u001b[0m\u001b[0;34m\u001b[0m\u001b[0m\n\u001b[0m\u001b[1;32m     89\u001b[0m             \u001b[0;32mexcept\u001b[0m \u001b[0mStopIteration\u001b[0m\u001b[0;34m:\u001b[0m\u001b[0;34m\u001b[0m\u001b[0m\n\u001b[1;32m     90\u001b[0m                 \u001b[0;32mreturn\u001b[0m \u001b[0;32mFalse\u001b[0m\u001b[0;34m\u001b[0m\u001b[0m\n",
      "\u001b[0;32m/opt/conda/lib/python3.6/site-packages/traitlets/traitlets.py\u001b[0m in \u001b[0;36mhold_trait_notifications\u001b[0;34m(self)\u001b[0m\n\u001b[1;32m   1129\u001b[0m                 \u001b[0;32mfor\u001b[0m \u001b[0mchanges\u001b[0m \u001b[0;32min\u001b[0m \u001b[0mcache\u001b[0m\u001b[0;34m.\u001b[0m\u001b[0mvalues\u001b[0m\u001b[0;34m(\u001b[0m\u001b[0;34m)\u001b[0m\u001b[0;34m:\u001b[0m\u001b[0;34m\u001b[0m\u001b[0m\n\u001b[1;32m   1130\u001b[0m                     \u001b[0;32mfor\u001b[0m \u001b[0mchange\u001b[0m \u001b[0;32min\u001b[0m \u001b[0mchanges\u001b[0m\u001b[0;34m:\u001b[0m\u001b[0;34m\u001b[0m\u001b[0m\n\u001b[0;32m-> 1131\u001b[0;31m                         \u001b[0mself\u001b[0m\u001b[0;34m.\u001b[0m\u001b[0mnotify_change\u001b[0m\u001b[0;34m(\u001b[0m\u001b[0mchange\u001b[0m\u001b[0;34m)\u001b[0m\u001b[0;34m\u001b[0m\u001b[0m\n\u001b[0m\u001b[1;32m   1132\u001b[0m \u001b[0;34m\u001b[0m\u001b[0m\n\u001b[1;32m   1133\u001b[0m     \u001b[0;32mdef\u001b[0m \u001b[0m_notify_trait\u001b[0m\u001b[0;34m(\u001b[0m\u001b[0mself\u001b[0m\u001b[0;34m,\u001b[0m \u001b[0mname\u001b[0m\u001b[0;34m,\u001b[0m \u001b[0mold_value\u001b[0m\u001b[0;34m,\u001b[0m \u001b[0mnew_value\u001b[0m\u001b[0;34m)\u001b[0m\u001b[0;34m:\u001b[0m\u001b[0;34m\u001b[0m\u001b[0m\n",
      "\u001b[0;32m/opt/conda/lib/python3.6/site-packages/ipywidgets/widgets/widget.py\u001b[0m in \u001b[0;36mnotify_change\u001b[0;34m(self, change)\u001b[0m\n\u001b[1;32m    598\u001b[0m                 \u001b[0;31m# Send new state to front-end\u001b[0m\u001b[0;34m\u001b[0m\u001b[0;34m\u001b[0m\u001b[0m\n\u001b[1;32m    599\u001b[0m                 \u001b[0mself\u001b[0m\u001b[0;34m.\u001b[0m\u001b[0msend_state\u001b[0m\u001b[0;34m(\u001b[0m\u001b[0mkey\u001b[0m\u001b[0;34m=\u001b[0m\u001b[0mname\u001b[0m\u001b[0;34m)\u001b[0m\u001b[0;34m\u001b[0m\u001b[0m\n\u001b[0;32m--> 600\u001b[0;31m         \u001b[0msuper\u001b[0m\u001b[0;34m(\u001b[0m\u001b[0mWidget\u001b[0m\u001b[0;34m,\u001b[0m \u001b[0mself\u001b[0m\u001b[0;34m)\u001b[0m\u001b[0;34m.\u001b[0m\u001b[0mnotify_change\u001b[0m\u001b[0;34m(\u001b[0m\u001b[0mchange\u001b[0m\u001b[0;34m)\u001b[0m\u001b[0;34m\u001b[0m\u001b[0m\n\u001b[0m\u001b[1;32m    601\u001b[0m \u001b[0;34m\u001b[0m\u001b[0m\n\u001b[1;32m    602\u001b[0m     \u001b[0;32mdef\u001b[0m \u001b[0m__repr__\u001b[0m\u001b[0;34m(\u001b[0m\u001b[0mself\u001b[0m\u001b[0;34m)\u001b[0m\u001b[0;34m:\u001b[0m\u001b[0;34m\u001b[0m\u001b[0m\n",
      "\u001b[0;32m/opt/conda/lib/python3.6/site-packages/traitlets/traitlets.py\u001b[0m in \u001b[0;36mnotify_change\u001b[0;34m(self, change)\u001b[0m\n\u001b[1;32m   1174\u001b[0m                 \u001b[0mc\u001b[0m \u001b[0;34m=\u001b[0m \u001b[0mgetattr\u001b[0m\u001b[0;34m(\u001b[0m\u001b[0mself\u001b[0m\u001b[0;34m,\u001b[0m \u001b[0mc\u001b[0m\u001b[0;34m.\u001b[0m\u001b[0mname\u001b[0m\u001b[0;34m)\u001b[0m\u001b[0;34m\u001b[0m\u001b[0m\n\u001b[1;32m   1175\u001b[0m \u001b[0;34m\u001b[0m\u001b[0m\n\u001b[0;32m-> 1176\u001b[0;31m             \u001b[0mc\u001b[0m\u001b[0;34m(\u001b[0m\u001b[0mchange\u001b[0m\u001b[0;34m)\u001b[0m\u001b[0;34m\u001b[0m\u001b[0m\n\u001b[0m\u001b[1;32m   1177\u001b[0m \u001b[0;34m\u001b[0m\u001b[0m\n\u001b[1;32m   1178\u001b[0m     \u001b[0;32mdef\u001b[0m \u001b[0m_add_notifiers\u001b[0m\u001b[0;34m(\u001b[0m\u001b[0mself\u001b[0m\u001b[0;34m,\u001b[0m \u001b[0mhandler\u001b[0m\u001b[0;34m,\u001b[0m \u001b[0mname\u001b[0m\u001b[0;34m,\u001b[0m \u001b[0mtype\u001b[0m\u001b[0;34m)\u001b[0m\u001b[0;34m:\u001b[0m\u001b[0;34m\u001b[0m\u001b[0m\n",
      "\u001b[0;32m<ipython-input-60-631ef0170316>\u001b[0m in \u001b[0;36mon_change_selected\u001b[0;34m(change)\u001b[0m\n\u001b[1;32m     27\u001b[0m     \u001b[0mlabel_upper\u001b[0m\u001b[0;34m.\u001b[0m\u001b[0mvalue\u001b[0m \u001b[0;34m=\u001b[0m \u001b[0;34m\"Upper Limit: %s\"\u001b[0m \u001b[0;34m%\u001b[0m \u001b[0mupper\u001b[0m\u001b[0;34m\u001b[0m\u001b[0m\n\u001b[1;32m     28\u001b[0m \u001b[0;34m\u001b[0m\u001b[0m\n\u001b[0;32m---> 29\u001b[0;31m     \u001b[0mselected_points\u001b[0m \u001b[0;34m=\u001b[0m \u001b[0;34m(\u001b[0m\u001b[0mx\u001b[0m \u001b[0;34m>\u001b[0m \u001b[0mlower\u001b[0m\u001b[0;34m)\u001b[0m \u001b[0;34m&\u001b[0m \u001b[0;34m(\u001b[0m\u001b[0mx\u001b[0m \u001b[0;34m<\u001b[0m \u001b[0mupper\u001b[0m\u001b[0;34m)\u001b[0m\u001b[0;34m\u001b[0m\u001b[0m\n\u001b[0m\u001b[1;32m     30\u001b[0m     \u001b[0mscatter\u001b[0m\u001b[0;34m.\u001b[0m\u001b[0mselected\u001b[0m \u001b[0;34m=\u001b[0m \u001b[0mnp\u001b[0m\u001b[0;34m.\u001b[0m\u001b[0mwhere\u001b[0m\u001b[0;34m(\u001b[0m\u001b[0mselected_points\u001b[0m\u001b[0;34m)\u001b[0m\u001b[0;34m[\u001b[0m\u001b[0;36m0\u001b[0m\u001b[0;34m]\u001b[0m\u001b[0;34m.\u001b[0m\u001b[0mtolist\u001b[0m\u001b[0;34m(\u001b[0m\u001b[0;34m)\u001b[0m\u001b[0;34m\u001b[0m\u001b[0m\n\u001b[1;32m     31\u001b[0m \u001b[0;34m\u001b[0m\u001b[0m\n",
      "\u001b[0;31mTypeError\u001b[0m: '>' not supported between instances of 'int' and 'NoneType'"
     ]
    }
   ],
   "source": [
    "x = np.arange(100)\n",
    "y1 = np.random.random(100) + 5\n",
    "y2 = x**2 + np.random.random(100) * 10\n",
    "\n",
    "x_sc = bqplot.LinearScale()\n",
    "y1_sc = bqplot.LinearScale()\n",
    "y2_sc = bqplot.LogScale()\n",
    "\n",
    "lines1 = bqplot.Lines(x = x, y = y1, scales = {'x': x_sc, 'y': y1_sc})\n",
    "lines2 = bqplot.Lines(x = x, y = y2, scales = {'x': x_sc, 'y': y2_sc})\n",
    "\n",
    "ax_x = bqplot.Axis(scale = x_sc, label = 'X Value')\n",
    "ax_y1 = bqplot.Axis(scale = y1_sc, label = 'Y Value', orientation = 'vertical')\n",
    "ax_y2 = bqplot.Axis(scale = y2_sc, label = 'Y Value', orientation = 'vertical')\n",
    "\n",
    "interval_selector = bqplot.interacts.FastIntervalSelector(scale = x_sc)\n",
    "\n",
    "label_lower = ipywidgets.Label(\"Lower Limit:\")\n",
    "label_upper = ipywidgets.Label(\"Upper Limit:\")\n",
    "\n",
    "def on_change_selected(change):\n",
    "    if change['new'].size < 2: return\n",
    "    lower = change['new'][0]\n",
    "    upper = change['new'][1]\n",
    "    \n",
    "    label_lower.value = \"Lower Limit: %s\" % lower\n",
    "    label_upper.value = \"Upper Limit: %s\" % upper\n",
    "    \n",
    "    selected_points = (x > lower) & (x < upper)\n",
    "    scatter.selected = np.where(selected_points)[0].tolist()\n",
    "\n",
    "interval_selector.observe(on_change_selected, ['selected'])\n",
    "\n",
    "fig1 = bqplot.Figure(marks = [lines1], axes = [ax_x, ax_y1], interaction = interval_selector)\n",
    "fig2 = bqplot.Figure(marks = [lines2], axes = [ax_x, ax_y2], interaction = interval_selector)\n",
    "\n",
    "scatter = bqplot.Scatter(x = y1, y = y2, scales = {'x': y1_sc, 'y': y2_sc})\n",
    "scatter.selected_style = {'fill': 'orange'}\n",
    "ax_y3 = bqplot.Axis(scale = y1_sc)\n",
    "ax_y4 = bqplot.Axis(scale = y2_sc, orientation = 'vertical')\n",
    "fig3 = bqplot.Figure(marks = [scatter], axes = [ax_y3, ax_y4])\n",
    "\n",
    "display(ipywidgets.VBox([label_lower, label_upper,\n",
    "                         ipywidgets.HBox([fig1, fig3]),\n",
    "                         fig2]))"
   ]
  },
  {
   "cell_type": "code",
   "execution_count": 62,
   "metadata": {},
   "outputs": [],
   "source": [
    "scatter.selected_style = {'stroke': 'black', 'fill': 'orange'}"
   ]
  },
  {
   "cell_type": "code",
   "execution_count": null,
   "metadata": {},
   "outputs": [],
   "source": []
  }
 ],
 "metadata": {
  "kernelspec": {
   "display_name": "Environment (conda_conda)",
   "language": "python",
   "name": "conda_conda"
  },
  "language_info": {
   "codemirror_mode": {
    "name": "ipython",
    "version": 3
   },
   "file_extension": ".py",
   "mimetype": "text/x-python",
   "name": "python",
   "nbconvert_exporter": "python",
   "pygments_lexer": "ipython3",
   "version": "3.6.6"
  }
 },
 "nbformat": 4,
 "nbformat_minor": 2
}
